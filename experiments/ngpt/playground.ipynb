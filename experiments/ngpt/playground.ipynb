{
 "cells": [
  {
   "cell_type": "code",
   "execution_count": 1,
   "metadata": {},
   "outputs": [],
   "source": [
    "%load_ext autoreload\n",
    "%autoreload 2\n",
    "\n",
    "import torch\n",
    "import torch.nn as nn"
   ]
  },
  {
   "cell_type": "code",
   "execution_count": 2,
   "metadata": {},
   "outputs": [],
   "source": [
    "from omni.utils.system import num_params"
   ]
  },
  {
   "cell_type": "code",
   "execution_count": 15,
   "metadata": {},
   "outputs": [
    {
     "name": "stdout",
     "output_type": "stream",
     "text": [
      "Number of trainable parameters: 75,615,314\n"
     ]
    }
   ],
   "source": [
    "from n_transformer import nTransformer, nConfig\n",
    "\n",
    "model_config = nConfig(\n",
    "    vocab_size=50258,\n",
    "    seq_len=512,\n",
    "    d_model=768,\n",
    "    hidden_dim=3072,\n",
    "    num_layers=8,\n",
    "    num_heads=8,\n",
    "    num_kv_heads=8,\n",
    "    mlp_bias=False,\n",
    "    mlp_dropout=0.0,\n",
    "    attention_bias=False,\n",
    "    attention_dropout=0.0,\n",
    "    weight_tying=False,\n",
    ")\n",
    "\n",
    "model = nTransformer(model_config)\n",
    "\n",
    "num_params(model)\n"
   ]
  },
  {
   "cell_type": "code",
   "execution_count": 13,
   "metadata": {},
   "outputs": [
    {
     "name": "stdout",
     "output_type": "stream",
     "text": [
      "Number of trainable parameters: 75,510,528\n"
     ]
    }
   ],
   "source": [
    "from omni.modules.config import TransformerConfig\n",
    "from omni.modules.transformer import Transformer\n",
    "\n",
    "model_config = TransformerConfig(\n",
    "    vocab_size=50258,\n",
    "    seq_len=512,\n",
    "    d_model=768,\n",
    "    num_layers=8,\n",
    "    num_heads=8,\n",
    "    num_kv_heads=8,\n",
    "    hidden_dim=3072,\n",
    "    activation_fn=None,\n",
    "    pos_encoding_type=\"absolute\",\n",
    "    mlp=\"mlp_swiglu\",\n",
    "    normalization=\"rmsnorm\",\n",
    "    attention=\"mha\",\n",
    "    mlp_bias=False,\n",
    "    mlp_dropout=0.1,\n",
    "    attention_bias=False,\n",
    "    attention_dropout=0.1,\n",
    "    weight_tying=False,\n",
    ")\n",
    "\n",
    "model = Transformer(model_config)\n",
    "\n",
    "num_params(model)"
   ]
  },
  {
   "cell_type": "code",
   "execution_count": 12,
   "metadata": {},
   "outputs": [
    {
     "data": {
      "text/plain": [
       "3072"
      ]
     },
     "execution_count": 12,
     "metadata": {},
     "output_type": "execute_result"
    }
   ],
   "source": [
    "768 * 4"
   ]
  },
  {
   "cell_type": "code",
   "execution_count": null,
   "metadata": {},
   "outputs": [],
   "source": []
  }
 ],
 "metadata": {
  "kernelspec": {
   "display_name": ".venv",
   "language": "python",
   "name": "python3"
  },
  "language_info": {
   "codemirror_mode": {
    "name": "ipython",
    "version": 3
   },
   "file_extension": ".py",
   "mimetype": "text/x-python",
   "name": "python",
   "nbconvert_exporter": "python",
   "pygments_lexer": "ipython3",
   "version": "3.12.7"
  }
 },
 "nbformat": 4,
 "nbformat_minor": 2
}
